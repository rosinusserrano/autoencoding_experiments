{
  "cells": [
    {
      "cell_type": "code",
      "execution_count": 16,
      "metadata": {
        "id": "DLDB25N1vLC-",
        "outputId": "e5ed4e9e-9ffe-49f2-f6bd-cccc10bc10d7",
        "colab": {
          "base_uri": "https://localhost:8080/"
        }
      },
      "outputs": [
        {
          "output_type": "stream",
          "name": "stdout",
          "text": [
            "Cloning into 'weird_distribution_sampling'...\n",
            "remote: Enumerating objects: 16, done.\u001b[K\n",
            "remote: Counting objects: 100% (16/16), done.\u001b[K\n",
            "remote: Compressing objects: 100% (10/10), done.\u001b[K\n",
            "remote: Total 16 (delta 3), reused 14 (delta 1), pack-reused 0 (from 0)\u001b[K\n",
            "Receiving objects: 100% (16/16), done.\n",
            "Resolving deltas: 100% (3/3), done.\n"
          ]
        }
      ],
      "source": [
        "!rm -rf weird_distribution_sampling\n",
        "!git clone https://github.com/rosinusserrano/weird_distribution_sampling.git\n",
        "\n",
        "import sys\n",
        "import importlib\n",
        "\n",
        "repo_path = \"/content\"\n",
        "if repo_path not in sys.path:\n",
        "    sys.path.append(repo_path)"
      ]
    },
    {
      "cell_type": "code",
      "source": [
        "from weird_distribution_sampling import utils\n",
        "\n",
        "utils.make_animation"
      ],
      "metadata": {
        "id": "y87sG4gqvn2c",
        "outputId": "94f54edb-91d5-44a2-cfe4-b004f56f84e1",
        "colab": {
          "base_uri": "https://localhost:8080/",
          "height": 177
        }
      },
      "execution_count": 21,
      "outputs": [
        {
          "output_type": "error",
          "ename": "AttributeError",
          "evalue": "module 'weird_distribution_sampling.utils' has no attribute 'make_animation'",
          "traceback": [
            "\u001b[0;31m---------------------------------------------------------------------------\u001b[0m",
            "\u001b[0;31mAttributeError\u001b[0m                            Traceback (most recent call last)",
            "\u001b[0;32m<ipython-input-21-f1d2719e9cfe>\u001b[0m in \u001b[0;36m<cell line: 3>\u001b[0;34m()\u001b[0m\n\u001b[1;32m      1\u001b[0m \u001b[0;32mfrom\u001b[0m \u001b[0mweird_distribution_sampling\u001b[0m \u001b[0;32mimport\u001b[0m \u001b[0mutils\u001b[0m\u001b[0;34m\u001b[0m\u001b[0;34m\u001b[0m\u001b[0m\n\u001b[1;32m      2\u001b[0m \u001b[0;34m\u001b[0m\u001b[0m\n\u001b[0;32m----> 3\u001b[0;31m \u001b[0mutils\u001b[0m\u001b[0;34m.\u001b[0m\u001b[0mmake_animation\u001b[0m\u001b[0;34m\u001b[0m\u001b[0;34m\u001b[0m\u001b[0m\n\u001b[0m",
            "\u001b[0;31mAttributeError\u001b[0m: module 'weird_distribution_sampling.utils' has no attribute 'make_animation'"
          ]
        }
      ]
    }
  ],
  "metadata": {
    "language_info": {
      "name": "python"
    },
    "colab": {
      "provenance": []
    },
    "kernelspec": {
      "name": "python3",
      "display_name": "Python 3"
    }
  },
  "nbformat": 4,
  "nbformat_minor": 0
}
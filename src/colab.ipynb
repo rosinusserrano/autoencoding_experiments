{
 "cells": [
  {
   "cell_type": "code",
   "execution_count": null,
   "metadata": {
    "colab": {
     "base_uri": "https://localhost:8080/",
     "height": 52
    },
    "id": "RCtMP_LLoq-G",
    "outputId": "9fbac164-834d-455c-841f-bc55ede0a617"
   },
   "outputs": [
    {
     "data": {
      "text/html": [
       "\n",
       "    <script>\n",
       "    function reloadRepo() {\n",
       "        google.colab.kernel.invokeFunction('notebook.reload_repo', [], {});\n",
       "    }\n",
       "    const button = document.createElement('button');\n",
       "    button.innerHTML = 'Reload Repo';\n",
       "    button.style.position = 'fixed';\n",
       "    button.style.bottom = '20px';\n",
       "    button.style.right = '20px';\n",
       "    button.style.backgroundColor = '#ff5050';\n",
       "    button.style.color = 'white';\n",
       "    button.style.border = 'none';\n",
       "    button.style.padding = '10px 20px';\n",
       "    button.style.borderRadius = '5px';\n",
       "    button.style.boxShadow = '0px 4px 6px rgba(0,0,0,0.1)';\n",
       "    button.style.cursor = 'pointer';\n",
       "    button.onclick = reloadRepo;\n",
       "    document.body.appendChild(button);\n",
       "    </script>\n",
       "    "
      ],
      "text/plain": [
       "<IPython.core.display.HTML object>"
      ]
     },
     "metadata": {},
     "output_type": "display_data"
    },
    {
     "name": "stdout",
     "output_type": "stream",
     "text": [
      "Already up to date.\n",
      "Repository at '/content/weird_distribution_sampling' is ready for imports.\n"
     ]
    }
   ],
   "source": [
    "from IPython.display import HTML, Javascript, clear_output\n",
    "import os\n",
    "import sys\n",
    "\n",
    "# Define the repo URL and folder name\n",
    "REPO_URL = \"https://github.com/autoencoding_experiments.git\"\n",
    "LOCAL_DIR = \"/content/autoencoding_experiments/src\"\n",
    "\n",
    "# Inject a floating button with JavaScript\n",
    "def inject_floating_button():\n",
    "    display(HTML(\"\"\"\n",
    "    <script>\n",
    "    function reloadRepo() {\n",
    "        google.colab.kernel.invokeFunction('notebook.reload_repo', [], {});\n",
    "    }\n",
    "    const button = document.createElement('button');\n",
    "    button.innerHTML = 'Reload Repo';\n",
    "    button.style.position = 'fixed';\n",
    "    button.style.bottom = '20px';\n",
    "    button.style.right = '20px';\n",
    "    button.style.backgroundColor = '#ff5050';\n",
    "    button.style.color = 'white';\n",
    "    button.style.border = 'none';\n",
    "    button.style.padding = '10px 20px';\n",
    "    button.style.borderRadius = '5px';\n",
    "    button.style.boxShadow = '0px 4px 6px rgba(0,0,0,0.1)';\n",
    "    button.style.cursor = 'pointer';\n",
    "    button.onclick = reloadRepo;\n",
    "    document.body.appendChild(button);\n",
    "    </script>\n",
    "    \"\"\"))\n",
    "\n",
    "def clone_and_import():\n",
    "    # Clear output and display new button\n",
    "    clear_output(wait=True)\n",
    "    inject_floating_button()\n",
    "    # Clone the repository if it doesn't exist\n",
    "    if not os.path.exists(LOCAL_DIR):\n",
    "        !git clone {REPO_URL} {LOCAL_DIR}\n",
    "    else:\n",
    "        # Pull the latest changes if the repo already exists\n",
    "        !cd {LOCAL_DIR} && git pull\n",
    "\n",
    "    # Append the repository to the system path\n",
    "    if LOCAL_DIR not in sys.path:\n",
    "        sys.path.append(LOCAL_DIR)\n",
    "    print(f\"Repository at '{LOCAL_DIR}' is ready for imports.\")\n",
    "\n",
    "# Register the Python function as a callable function for JavaScript\n",
    "from google.colab import output\n",
    "output.register_callback('notebook.reload_repo', clone_and_import)\n",
    "\n",
    "# Inject the button\n",
    "inject_floating_button()\n",
    "\n",
    "# Initial setup\n",
    "clone_and_import()"
   ]
  },
  {
   "cell_type": "code",
   "execution_count": 1,
   "metadata": {},
   "outputs": [],
   "source": [
    "%reload_ext autoreload\n",
    "%autoreload 2"
   ]
  },
  {
   "cell_type": "code",
   "execution_count": null,
   "metadata": {},
   "outputs": [
    {
     "name": "stderr",
     "output_type": "stream",
     "text": [
      "c:\\Users\\marco\\Projects\\autoencoding_experiments\\.venv\\Lib\\site-packages\\torchvision\\transforms\\v2\\_deprecated.py:42: UserWarning: The transform `ToTensor()` is deprecated and will be removed in a future release. Instead, please use `v2.Compose([v2.ToImage(), v2.ToDtype(torch.float32, scale=True)])`.Output is equivalent up to float precision.\n",
      "  warnings.warn(\n"
     ]
    },
    {
     "name": "stdout",
     "output_type": "stream",
     "text": [
      "Files already downloaded and verified\n",
      "Files already downloaded and verified\n"
     ]
    }
   ],
   "source": [
    "from datasets import DatasetConfig\n",
    "from logger.caveman import CavemanLogger\n",
    "from models.autoencoder import AutoencoderConfig, run\n",
    "from utils.train import TrainConfig\n",
    "\n",
    "model_config = AutoencoderConfig()\n",
    "\n",
    "dataset_config = DatasetConfig(\n",
    "    dataset_name=\"cifar10\",\n",
    "    batch_size=32,\n",
    "    validation_split=0.1,\n",
    ")\n",
    "\n",
    "train_config = TrainConfig(\n",
    "    optimizer=\"adam\",\n",
    "    learning_rate=0.001,\n",
    "    n_epochs=20,\n",
    ")\n",
    "\n",
    "logger = CavemanLogger(root_dir=\"testrun\")\n",
    "\n",
    "run(\n",
    "    model_config=model_config,\n",
    "    dataset_config=dataset_config,\n",
    "    train_config=train_config,\n",
    "    logger=logger,\n",
    "    validation_interval=1,\n",
    "    test_interval=1,\n",
    "    visualization_interval=1,\n",
    ")"
   ]
  },
  {
   "cell_type": "code",
   "execution_count": null,
   "metadata": {},
   "outputs": [],
   "source": []
  }
 ],
 "metadata": {
  "colab": {
   "provenance": []
  },
  "kernelspec": {
   "display_name": ".venv",
   "language": "python",
   "name": "python3"
  },
  "language_info": {
   "codemirror_mode": {
    "name": "ipython",
    "version": 3
   },
   "file_extension": ".py",
   "mimetype": "text/x-python",
   "name": "python",
   "nbconvert_exporter": "python",
   "pygments_lexer": "ipython3",
   "version": "3.11.4"
  }
 },
 "nbformat": 4,
 "nbformat_minor": 0
}

{
  "cells": [
    {
      "cell_type": "code",
      "execution_count": 1,
      "metadata": {
        "colab": {
          "base_uri": "https://localhost:8080/",
          "height": 225
        },
        "id": "RCtMP_LLoq-G",
        "outputId": "cd93bf1a-5f72-4bde-c8b5-82cb03e33669"
      },
      "outputs": [
        {
          "data": {
            "text/html": [
              "\n",
              "    <script>\n",
              "    function reloadRepo() {\n",
              "        google.colab.kernel.invokeFunction('notebook.reload_repo', [], {});\n",
              "    }\n",
              "    const button = document.createElement('button');\n",
              "    button.innerHTML = 'Reload Repo';\n",
              "    button.style.position = 'fixed';\n",
              "    button.style.bottom = '20px';\n",
              "    button.style.right = '20px';\n",
              "    button.style.backgroundColor = '#ff5050';\n",
              "    button.style.color = 'white';\n",
              "    button.style.border = 'none';\n",
              "    button.style.padding = '10px 20px';\n",
              "    button.style.borderRadius = '5px';\n",
              "    button.style.boxShadow = '0px 4px 6px rgba(0,0,0,0.1)';\n",
              "    button.style.cursor = 'pointer';\n",
              "    button.onclick = reloadRepo;\n",
              "    document.body.appendChild(button);\n",
              "    </script>\n",
              "    "
            ],
            "text/plain": [
              "<IPython.core.display.HTML object>"
            ]
          },
          "metadata": {},
          "output_type": "display_data"
        },
        {
          "name": "stdout",
          "output_type": "stream",
          "text": [
            "remote: Enumerating objects: 9, done.\u001b[K\n",
            "remote: Counting objects:  11% (1/9)\u001b[K\rremote: Counting objects:  22% (2/9)\u001b[K\rremote: Counting objects:  33% (3/9)\u001b[K\rremote: Counting objects:  44% (4/9)\u001b[K\rremote: Counting objects:  55% (5/9)\u001b[K\rremote: Counting objects:  66% (6/9)\u001b[K\rremote: Counting objects:  77% (7/9)\u001b[K\rremote: Counting objects:  88% (8/9)\u001b[K\rremote: Counting objects: 100% (9/9)\u001b[K\rremote: Counting objects: 100% (9/9), done.\u001b[K\n",
            "remote: Compressing objects: 100% (1/1)\u001b[K\rremote: Compressing objects: 100% (1/1), done.\u001b[K\n",
            "remote: Total 5 (delta 4), reused 5 (delta 4), pack-reused 0 (from 0)\u001b[K\n",
            "Unpacking objects:  20% (1/5)\rUnpacking objects:  40% (2/5)\rUnpacking objects:  60% (3/5)\rUnpacking objects:  80% (4/5)\rUnpacking objects: 100% (5/5)\rUnpacking objects: 100% (5/5), 440 bytes | 440.00 KiB/s, done.\n",
            "From https://github.com/rosinusserrano/autoencoding_experiments\n",
            "   6bf16f0..47eb11e  main       -> origin/main\n",
            "Updating 6bf16f0..47eb11e\n",
            "Fast-forward\n",
            " src/logger/caveman.py | 4 \u001b[32m++\u001b[m\u001b[31m--\u001b[m\n",
            " 1 file changed, 2 insertions(+), 2 deletions(-)\n",
            "Repository at '/content/autoencoding_experiments' is ready for imports.\n"
          ]
        }
      ],
      "source": [
        "from IPython.display import HTML, Javascript, clear_output\n",
        "import os\n",
        "import sys\n",
        "\n",
        "# Define the repo URL and folder name\n",
        "REPO_URL = \"https://github.com/rosinusserrano/autoencoding_experiments.git\"\n",
        "LOCAL_DIR = \"/content/autoencoding_experiments\"\n",
        "\n",
        "# Inject a floating button with JavaScript\n",
        "def inject_floating_button():\n",
        "    display(HTML(\"\"\"\n",
        "    <script>\n",
        "    function reloadRepo() {\n",
        "        google.colab.kernel.invokeFunction('notebook.reload_repo', [], {});\n",
        "    }\n",
        "    const button = document.createElement('button');\n",
        "    button.innerHTML = 'Reload Repo';\n",
        "    button.style.position = 'fixed';\n",
        "    button.style.bottom = '20px';\n",
        "    button.style.right = '20px';\n",
        "    button.style.backgroundColor = '#ff5050';\n",
        "    button.style.color = 'white';\n",
        "    button.style.border = 'none';\n",
        "    button.style.padding = '10px 20px';\n",
        "    button.style.borderRadius = '5px';\n",
        "    button.style.boxShadow = '0px 4px 6px rgba(0,0,0,0.1)';\n",
        "    button.style.cursor = 'pointer';\n",
        "    button.onclick = reloadRepo;\n",
        "    document.body.appendChild(button);\n",
        "    </script>\n",
        "    \"\"\"))\n",
        "\n",
        "def clone_and_import():\n",
        "    # Clear output and display new button\n",
        "    clear_output(wait=True)\n",
        "    inject_floating_button()\n",
        "    # Clone the repository if it doesn't exist\n",
        "    if not os.path.exists(LOCAL_DIR):\n",
        "        !git clone {REPO_URL} {LOCAL_DIR}\n",
        "    else:\n",
        "        # Pull the latest changes if the repo already exists\n",
        "        !cd {LOCAL_DIR} && git pull\n",
        "\n",
        "    # Append the repository to the system path\n",
        "    if LOCAL_DIR not in sys.path:\n",
        "        sys.path.append(LOCAL_DIR + \"/src\")\n",
        "    print(f\"Repository at '{LOCAL_DIR}' is ready for imports.\")\n",
        "\n",
        "# Register the Python function as a callable function for JavaScript\n",
        "from google.colab import output\n",
        "output.register_callback('notebook.reload_repo', clone_and_import)\n",
        "\n",
        "# Inject the button\n",
        "inject_floating_button()\n",
        "\n",
        "# Initial setup\n",
        "clone_and_import()"
      ]
    },
    {
      "cell_type": "code",
      "execution_count": 1,
      "metadata": {
        "id": "vn1_ovXFmL_2"
      },
      "outputs": [],
      "source": [
        "%reload_ext autoreload\n",
        "%autoreload 2"
      ]
    },
    {
      "cell_type": "code",
      "execution_count": null,
      "metadata": {
        "colab": {
          "base_uri": "https://localhost:8080/",
          "height": 981
        },
        "id": "E6XPWVOTmL_2",
        "outputId": "9b3b7c19-b84c-4c0f-95e4-5078f4da132e"
      },
      "outputs": [
        {
          "name": "stderr",
          "output_type": "stream",
          "text": [
            "c:\\Users\\marco\\Projects\\autoencoding_experiments\\.venv\\Lib\\site-packages\\torchvision\\transforms\\v2\\_deprecated.py:42: UserWarning: The transform `ToTensor()` is deprecated and will be removed in a future release. Instead, please use `v2.Compose([v2.ToImage(), v2.ToDtype(torch.float32, scale=True)])`.Output is equivalent up to float precision.\n",
            "  warnings.warn(\n"
          ]
        },
        {
          "name": "stdout",
          "output_type": "stream",
          "text": [
            "Files already downloaded and verified\n",
            "Files already downloaded and verified\n",
            "On device: cpu\n",
            "EPOCH 0: train_loss 3.9455\n",
            "EPOCH 0: val_loss 0.3954\n",
            "EPOCH 0: test_loss 0.5768\n",
            "tensor(0.0006) tensor(1.0000)\n",
            "EPOCH 1: train_loss 1.3070\n",
            "EPOCH 1: val_loss 0.2895\n",
            "EPOCH 1: test_loss 0.4117\n",
            "tensor(0.1569) tensor(0.7380)\n",
            "EPOCH 2: train_loss 0.8047\n",
            "EPOCH 2: val_loss 0.3412\n",
            "EPOCH 2: test_loss 0.3879\n",
            "tensor(0.0640) tensor(0.9625)\n",
            "EPOCH 3: train_loss 0.5680\n",
            "EPOCH 3: val_loss 0.3885\n",
            "EPOCH 3: test_loss 0.3714\n",
            "tensor(0.0381) tensor(0.9985)\n",
            "EPOCH 4: train_loss 0.4263\n",
            "EPOCH 4: val_loss 0.3872\n",
            "EPOCH 4: test_loss 0.4332\n",
            "tensor(0.0483) tensor(0.9895)\n",
            "EPOCH 5: train_loss 0.3515\n",
            "EPOCH 5: val_loss 0.4106\n",
            "EPOCH 5: test_loss 0.4903\n",
            "tensor(0.0807) tensor(0.9689)\n",
            "EPOCH 6: train_loss 0.3071\n",
            "EPOCH 6: val_loss 0.3622\n",
            "EPOCH 6: test_loss 0.4470\n",
            "tensor(0.0879) tensor(0.8971)\n",
            "EPOCH 7: train_loss 0.2721\n",
            "EPOCH 7: val_loss 0.3247\n",
            "EPOCH 7: test_loss 0.4369\n",
            "tensor(0.0772) tensor(0.9554)\n",
            "EPOCH 8: train_loss 0.2454\n",
            "EPOCH 8: val_loss 0.2930\n",
            "EPOCH 8: test_loss 0.3861\n",
            "tensor(0.0950) tensor(0.9207)\n",
            "EPOCH 9: train_loss 0.2310\n",
            "EPOCH 9: val_loss 0.2691\n",
            "EPOCH 9: test_loss 0.3519\n",
            "tensor(0.1109) tensor(0.8875)\n"
          ]
        },
        {
          "data": {
            "image/png": "[encoded data removed]",
            "text/plain": [
              "<Figure size 640x480 with 1 Axes>"
            ]
          },
          "metadata": {},
          "output_type": "display_data"
        }
      ],
      "source": [
        "from models.vae import VAEConfig\n",
        "from datasets import DatasetConfig\n",
        "from utils.train import TrainConfig\n",
        "from logger.caveman import CavemanLogger\n",
        "\n",
        "from experiments.vae_standard import train_standard_vae_on_cifar\n",
        "\n",
        "\n",
        "model_config = VAEConfig(latent_channels=256)\n",
        "dataset_config = DatasetConfig(\n",
        "    dataset_name=\"cifar10\",\n",
        "    validation_split=0.1,\n",
        "    batch_size=128,\n",
        "    subset_ratio=0.01,\n",
        ")\n",
        "train_config = TrainConfig(\"adam\", learning_rate=0.001, n_epochs=50)\n",
        "\n",
        "logger = CavemanLogger(\"../runs\", \"vaetestlocal\")\n",
        "\n",
        "train_standard_vae_on_cifar(\n",
        "    model_config=model_config,\n",
        "    dataset_config=dataset_config,\n",
        "    train_config=train_config,\n",
        "    logger=logger,\n",
        "    validation_interval=5,\n",
        "    test_interval=5,\n",
        "    visualization_interval=5,\n",
        ")"
      ]
    },
    {
      "cell_type": "code",
      "execution_count": null,
      "metadata": {
        "id": "00MAaz6OmL_3"
      },
      "outputs": [],
      "source": []
    }
  ],
  "metadata": {
    "accelerator": "GPU",
    "colab": {
      "gpuType": "T4",
      "provenance": []
    },
    "kernelspec": {
      "display_name": ".venv",
      "language": "python",
      "name": "python3"
    },
    "language_info": {
      "codemirror_mode": {
        "name": "ipython",
        "version": 3
      },
      "file_extension": ".py",
      "mimetype": "text/x-python",
      "name": "python",
      "nbconvert_exporter": "python",
      "pygments_lexer": "ipython3",
      "version": "3.11.4"
    }
  },
  "nbformat": 4,
  "nbformat_minor": 0
}

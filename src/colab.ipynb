{
  "cells": [
    {
      "cell_type": "code",
      "execution_count": 7,
      "metadata": {
        "colab": {
          "base_uri": "https://localhost:8080/",
          "height": 225
        },
        "id": "RCtMP_LLoq-G",
        "outputId": "52cf324d-327b-47ba-f885-95891d52a86c"
      },
      "outputs": [
        {
          "data": {
            "text/html": [
              "\n",
              "    <script>\n",
              "    function reloadRepo() {\n",
              "        google.colab.kernel.invokeFunction('notebook.reload_repo', [], {});\n",
              "    }\n",
              "    const button = document.createElement('button');\n",
              "    button.innerHTML = 'Reload Repo';\n",
              "    button.style.position = 'fixed';\n",
              "    button.style.bottom = '20px';\n",
              "    button.style.right = '20px';\n",
              "    button.style.backgroundColor = '#ff5050';\n",
              "    button.style.color = 'white';\n",
              "    button.style.border = 'none';\n",
              "    button.style.padding = '10px 20px';\n",
              "    button.style.borderRadius = '5px';\n",
              "    button.style.boxShadow = '0px 4px 6px rgba(0,0,0,0.1)';\n",
              "    button.style.cursor = 'pointer';\n",
              "    button.onclick = reloadRepo;\n",
              "    document.body.appendChild(button);\n",
              "    </script>\n",
              "    "
            ],
            "text/plain": [
              "<IPython.core.display.HTML object>"
            ]
          },
          "metadata": {},
          "output_type": "display_data"
        },
        {
          "name": "stdout",
          "output_type": "stream",
          "text": [
            "remote: Enumerating objects: 9, done.\u001b[K\n",
            "remote: Counting objects:  11% (1/9)\u001b[K\rremote: Counting objects:  22% (2/9)\u001b[K\rremote: Counting objects:  33% (3/9)\u001b[K\rremote: Counting objects:  44% (4/9)\u001b[K\rremote: Counting objects:  55% (5/9)\u001b[K\rremote: Counting objects:  66% (6/9)\u001b[K\rremote: Counting objects:  77% (7/9)\u001b[K\rremote: Counting objects:  88% (8/9)\u001b[K\rremote: Counting objects: 100% (9/9)\u001b[K\rremote: Counting objects: 100% (9/9), done.\u001b[K\n",
            "remote: Compressing objects: 100% (1/1)\u001b[K\rremote: Compressing objects: 100% (1/1), done.\u001b[K\n",
            "remote: Total 5 (delta 4), reused 5 (delta 4), pack-reused 0 (from 0)\u001b[K\n",
            "Unpacking objects:  20% (1/5)\rUnpacking objects:  40% (2/5)\rUnpacking objects:  60% (3/5)\rUnpacking objects:  80% (4/5)\rUnpacking objects: 100% (5/5)\rUnpacking objects: 100% (5/5), 435 bytes | 435.00 KiB/s, done.\n",
            "From https://github.com/rosinusserrano/autoencoding_experiments\n",
            "   65a0b52..99f2b20  main       -> origin/main\n",
            "Updating 65a0b52..99f2b20\n",
            "Fast-forward\n",
            " src/experiments/vae_standard.py | 2 \u001b[32m+\u001b[m\u001b[31m-\u001b[m\n",
            " 1 file changed, 1 insertion(+), 1 deletion(-)\n",
            "Repository at '/content/autoencoding_experiments' is ready for imports.\n"
          ]
        }
      ],
      "source": [
        "from IPython.display import HTML, Javascript, clear_output\n",
        "import os\n",
        "import sys\n",
        "\n",
        "from google.colab import drive\n",
        "\n",
        "drive.mount(\"/content/drive\")\n",
        "\n",
        "!pip install human_id\n",
        "\n",
        "# Define the repo URL and folder name\n",
        "REPO_URL = \"https://github.com/rosinusserrano/autoencoding_experiments.git\"\n",
        "LOCAL_DIR = \"/content/autoencoding_experiments\"\n",
        "\n",
        "# Inject a floating button with JavaScript\n",
        "def inject_floating_button():\n",
        "    display(HTML(\"\"\"\n",
        "    <script>\n",
        "    function reloadRepo() {\n",
        "        google.colab.kernel.invokeFunction('notebook.reload_repo', [], {});\n",
        "    }\n",
        "    const button = document.createElement('button');\n",
        "    button.innerHTML = 'Reload Repo';\n",
        "    button.style.position = 'fixed';\n",
        "    button.style.bottom = '20px';\n",
        "    button.style.right = '20px';\n",
        "    button.style.backgroundColor = '#ff5050';\n",
        "    button.style.color = 'white';\n",
        "    button.style.border = 'none';\n",
        "    button.style.padding = '10px 20px';\n",
        "    button.style.borderRadius = '5px';\n",
        "    button.style.boxShadow = '0px 4px 6px rgba(0,0,0,0.1)';\n",
        "    button.style.cursor = 'pointer';\n",
        "    button.onclick = reloadRepo;\n",
        "    document.body.appendChild(button);\n",
        "    </script>\n",
        "    \"\"\"))\n",
        "\n",
        "def clone_and_import():\n",
        "    # Clear output and display new button\n",
        "    clear_output(wait=True)\n",
        "    inject_floating_button()\n",
        "    # Clone the repository if it doesn't exist\n",
        "    if not os.path.exists(LOCAL_DIR):\n",
        "        !git clone {REPO_URL} {LOCAL_DIR}\n",
        "    else:\n",
        "        # Pull the latest changes if the repo already exists\n",
        "        !cd {LOCAL_DIR} && git pull\n",
        "\n",
        "    # Append the repository to the system path\n",
        "    if LOCAL_DIR not in sys.path:\n",
        "        sys.path.append(LOCAL_DIR + \"/src\")\n",
        "    print(f\"Repository at '{LOCAL_DIR}' is ready for imports.\")\n",
        "\n",
        "# Register the Python function as a callable function for JavaScript\n",
        "from google.colab import output\n",
        "output.register_callback('notebook.reload_repo', clone_and_import)\n",
        "\n",
        "# Inject the button\n",
        "inject_floating_button()\n",
        "\n",
        "# Initial setup\n",
        "clone_and_import()"
      ]
    },
    {
      "cell_type": "code",
      "execution_count": 1,
      "metadata": {
        "id": "vn1_ovXFmL_2"
      },
      "outputs": [],
      "source": [
        "%reload_ext autoreload\n",
        "%autoreload 2"
      ]
    },
    {
      "cell_type": "code",
      "execution_count": null,
      "metadata": {
        "colab": {
          "base_uri": "https://localhost:8080/",
          "height": 1000
        },
        "id": "E6XPWVOTmL_2",
        "outputId": "2e594f91-af47-48a5-a460-21ea0c0f8395"
      },
      "outputs": [
        {
          "name": "stderr",
          "output_type": "stream",
          "text": [
            "c:\\Users\\marco\\Projects\\autoencoding_experiments\\.venv\\Lib\\site-packages\\torchvision\\transforms\\v2\\_deprecated.py:42: UserWarning: The transform `ToTensor()` is deprecated and will be removed in a future release. Instead, please use `v2.Compose([v2.ToImage(), v2.ToDtype(torch.float32, scale=True)])`.Output is equivalent up to float precision.\n",
            "  warnings.warn(\n"
          ]
        },
        {
          "name": "stdout",
          "output_type": "stream",
          "text": [
            "Files already downloaded and verified\n",
            "Files already downloaded and verified\n",
            "On device: cpu\n"
          ]
        }
      ],
      "source": [
        "from functools import partial\n",
        "\n",
        "from datasets import DatasetConfig\n",
        "from logger.caveman import CavemanLogger\n",
        "from models.vae import VAEConfig, mse_and_kld_loss\n",
        "from utils.train import TrainConfig, standard_training_pipeline\n",
        "\n",
        "model_config = VAEConfig()\n",
        "dataset_config = DatasetConfig(\n",
        "    dataset_name=\"cifar10\",\n",
        "    validation_split=0.1,\n",
        "    batch_size=128,\n",
        ")\n",
        "train_config = TrainConfig(\"adam\", learning_rate=0.0003, n_epochs=50)\n",
        "\n",
        "logger = CavemanLogger(\"../runs/VAE on STL10\")\n",
        "\n",
        "standard_training_pipeline(\n",
        "    model_config=model_config,\n",
        "    dataset_config=dataset_config,\n",
        "    train_config=train_config,\n",
        "    logger=logger,\n",
        "    loss_fn=partial(mse_and_kld_loss, model_config=model_config),\n",
        "    validation_interval=1,\n",
        "    test_interval=1,\n",
        "    visualization_interval=1,\n",
        ")"
      ]
    },
    {
      "cell_type": "code",
      "execution_count": null,
      "metadata": {
        "id": "00MAaz6OmL_3"
      },
      "outputs": [],
      "source": []
    }
  ],
  "metadata": {
    "accelerator": "GPU",
    "colab": {
      "gpuType": "T4",
      "provenance": []
    },
    "kernelspec": {
      "display_name": ".venv",
      "language": "python",
      "name": "python3"
    },
    "language_info": {
      "codemirror_mode": {
        "name": "ipython",
        "version": 3
      },
      "file_extension": ".py",
      "mimetype": "text/x-python",
      "name": "python",
      "nbconvert_exporter": "python",
      "pygments_lexer": "ipython3",
      "version": "3.11.4"
    }
  },
  "nbformat": 4,
  "nbformat_minor": 0
}

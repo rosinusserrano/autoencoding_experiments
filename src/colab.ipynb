{
  "cells": [
    {
      "cell_type": "code",
      "execution_count": 1,
      "metadata": {
        "colab": {
          "base_uri": "https://localhost:8080/",
          "height": 156
        },
        "id": "RCtMP_LLoq-G",
        "outputId": "28dd6324-10f3-41b6-d09a-e26000a8c464"
      },
      "outputs": [
        {
          "output_type": "display_data",
          "data": {
            "text/plain": [
              "<IPython.core.display.HTML object>"
            ],
            "text/html": [
              "\n",
              "    <script>\n",
              "    function reloadRepo() {\n",
              "        google.colab.kernel.invokeFunction('notebook.reload_repo', [], {});\n",
              "    }\n",
              "    const button = document.createElement('button');\n",
              "    button.innerHTML = 'Reload Repo';\n",
              "    button.style.position = 'fixed';\n",
              "    button.style.bottom = '20px';\n",
              "    button.style.right = '20px';\n",
              "    button.style.backgroundColor = '#ff5050';\n",
              "    button.style.color = 'white';\n",
              "    button.style.border = 'none';\n",
              "    button.style.padding = '10px 20px';\n",
              "    button.style.borderRadius = '5px';\n",
              "    button.style.boxShadow = '0px 4px 6px rgba(0,0,0,0.1)';\n",
              "    button.style.cursor = 'pointer';\n",
              "    button.onclick = reloadRepo;\n",
              "    document.body.appendChild(button);\n",
              "    </script>\n",
              "    "
            ]
          },
          "metadata": {}
        },
        {
          "output_type": "stream",
          "name": "stdout",
          "text": [
            "Cloning into '/content/autoencoding_experiments'...\n",
            "remote: Enumerating objects: 341, done.\u001b[K\n",
            "remote: Counting objects: 100% (341/341), done.\u001b[K\n",
            "remote: Compressing objects: 100% (207/207), done.\u001b[K\n",
            "remote: Total 341 (delta 192), reused 263 (delta 121), pack-reused 0 (from 0)\u001b[K\n",
            "Receiving objects: 100% (341/341), 112.57 KiB | 4.17 MiB/s, done.\n",
            "Resolving deltas: 100% (192/192), done.\n",
            "Repository at '/content/autoencoding_experiments' is ready for imports.\n"
          ]
        }
      ],
      "source": [
        "from IPython.display import HTML, Javascript, clear_output\n",
        "import os\n",
        "import sys\n",
        "\n",
        "from google.colab import drive\n",
        "\n",
        "drive.mount(\"/content/drive\")\n",
        "\n",
        "!pip install human_id\n",
        "\n",
        "# Define the repo URL and folder name\n",
        "REPO_URL = \"https://github.com/rosinusserrano/autoencoding_experiments.git\"\n",
        "LOCAL_DIR = \"/content/autoencoding_experiments\"\n",
        "\n",
        "# Inject a floating button with JavaScript\n",
        "def inject_floating_button():\n",
        "    display(HTML(\"\"\"\n",
        "    <script>\n",
        "    function reloadRepo() {\n",
        "        google.colab.kernel.invokeFunction('notebook.reload_repo', [], {});\n",
        "    }\n",
        "    const button = document.createElement('button');\n",
        "    button.innerHTML = 'Reload Repo';\n",
        "    button.style.position = 'fixed';\n",
        "    button.style.bottom = '20px';\n",
        "    button.style.right = '20px';\n",
        "    button.style.backgroundColor = '#ff5050';\n",
        "    button.style.color = 'white';\n",
        "    button.style.border = 'none';\n",
        "    button.style.padding = '10px 20px';\n",
        "    button.style.borderRadius = '5px';\n",
        "    button.style.boxShadow = '0px 4px 6px rgba(0,0,0,0.1)';\n",
        "    button.style.cursor = 'pointer';\n",
        "    button.onclick = reloadRepo;\n",
        "    document.body.appendChild(button);\n",
        "    </script>\n",
        "    \"\"\"))\n",
        "\n",
        "def clone_and_import():\n",
        "    # Clear output and display new button\n",
        "    clear_output(wait=True)\n",
        "    inject_floating_button()\n",
        "    # Clone the repository if it doesn't exist\n",
        "    if not os.path.exists(LOCAL_DIR):\n",
        "        !git clone {REPO_URL} {LOCAL_DIR}\n",
        "    else:\n",
        "        # Pull the latest changes if the repo already exists\n",
        "        !cd {LOCAL_DIR} && git pull\n",
        "\n",
        "    # Append the repository to the system path\n",
        "    if LOCAL_DIR not in sys.path:\n",
        "        sys.path.append(LOCAL_DIR + \"/src\")\n",
        "    print(f\"Repository at '{LOCAL_DIR}' is ready for imports.\")\n",
        "\n",
        "# Register the Python function as a callable function for JavaScript\n",
        "from google.colab import output\n",
        "output.register_callback('notebook.reload_repo', clone_and_import)\n",
        "\n",
        "# Inject the button\n",
        "inject_floating_button()\n",
        "\n",
        "# Initial setup\n",
        "clone_and_import()"
      ]
    },
    {
      "cell_type": "code",
      "execution_count": 2,
      "metadata": {
        "id": "vn1_ovXFmL_2"
      },
      "outputs": [],
      "source": [
        "\n",
        "%reload_ext autoreload\n",
        "%autoreload 2"
      ]
    },
    {
      "cell_type": "code",
      "execution_count": null,
      "metadata": {
        "colab": {
          "base_uri": "https://localhost:8080/",
          "height": 191,
          "referenced_widgets": [
            "976debf0e0a64be68c5707fb3e10d649",
            "8397593399ed4efa90852bd6ed80c4c3",
            "4ea9b2f56e394703a03f53821b7adcc7",
            "558ff4e81d9541d197643ddb5c3a4e19",
            "ab4306a1ce1d4f87aef6852432ca6c35",
            "320f75a64be44b529878b5c159acf062",
            "18d019f4471e42e68b3b36f8aadf8898",
            "5406d86f80f24aa9ba93f39eb1a8ce86",
            "0f740999ac574d7d9db6ec726d1deeb5",
            "762ad33598cc4d37a40778182bef4f6d",
            "298a7a4247ad4d349de6a94a8ac044ba"
          ]
        },
        "id": "E6XPWVOTmL_2",
        "outputId": "27dfff7f-e1e3-4277-e994-14495c377457"
      },
      "outputs": [
        {
          "output_type": "stream",
          "name": "stderr",
          "text": [
            "/usr/local/lib/python3.10/dist-packages/torchvision/transforms/v2/_deprecated.py:42: UserWarning: The transform `ToTensor()` is deprecated and will be removed in a future release. Instead, please use `v2.Compose([v2.ToImage(), v2.ToDtype(torch.float32, scale=True)])`.Output is equivalent up to float precision.\n",
            "  warnings.warn(\n"
          ]
        },
        {
          "output_type": "stream",
          "name": "stdout",
          "text": [
            "Downloading http://ai.stanford.edu/~acoates/stl10/stl10_binary.tar.gz to data/stl10_binary.tar.gz\n"
          ]
        },
        {
          "output_type": "stream",
          "name": "stderr",
          "text": [
            "100%|██████████| 2.64G/2.64G [03:49<00:00, 11.5MB/s]\n"
          ]
        },
        {
          "output_type": "stream",
          "name": "stdout",
          "text": [
            "Extracting data/stl10_binary.tar.gz to data\n",
            "Files already downloaded and verified\n",
            "On device: cpu\n"
          ]
        },
        {
          "output_type": "display_data",
          "data": {
            "text/plain": [
              "  0%|          | 0/704 [00:00<?, ?it/s]"
            ],
            "application/vnd.jupyter.widget-view+json": {
              "version_major": 2,
              "version_minor": 0,
              "model_id": "976debf0e0a64be68c5707fb3e10d649"
            }
          },
          "metadata": {}
        }
      ],
      "source": [
        "from functools import partial\n",
        "\n",
        "from datasets import DatasetConfig\n",
        "from logger.caveman import CavemanLogger\n",
        "from models.vae import VAEConfig, mse_and_kld_loss\n",
        "from utils.train import TrainConfig, standard_training_pipeline\n",
        "\n",
        "model_config = VAEConfig()\n",
        "dataset_config = DatasetConfig(\n",
        "    dataset_name=\"stl10\",\n",
        "    validation_split=0.1,\n",
        "    batch_size=128,\n",
        ")\n",
        "train_config = TrainConfig(\"adam\", learning_rate=0.0003, n_epochs=50)\n",
        "\n",
        "experiment_name = \"VAE on STL10\"\n",
        "# logger = CavemanLogger(f\"../runs/{experiment_name}\")\n",
        "logger = CavemanLogger(f\"/content/drive/MyDrive/Autoencoding Experiments/{experiment_name}\")\n",
        "\n",
        "standard_training_pipeline(\n",
        "    model_config=model_config,\n",
        "    dataset_config=dataset_config,\n",
        "    train_config=train_config,\n",
        "    logger=logger,\n",
        "    loss_fn=partial(mse_and_kld_loss, model_config=model_config),\n",
        "    validation_interval=1,\n",
        "    test_interval=10,\n",
        "    visualization_interval=1,\n",
        ")"
      ]
    },
    {
      "cell_type": "code",
      "execution_count": null,
      "metadata": {
        "id": "00MAaz6OmL_3"
      },
      "outputs": [],
      "source": []
    }
  ],
  "metadata": {
    "accelerator": "GPU",
    "colab": {
      "gpuType": "T4",
      "provenance": []
    },
    "kernelspec": {
      "display_name": "Python 3",
      "name": "python3"
    },
    "language_info": {
      "codemirror_mode": {
        "name": "ipython",
        "version": 3
      },
      "file_extension": ".py",
      "mimetype": "text/x-python",
      "name": "python",
      "nbconvert_exporter": "python",
      "pygments_lexer": "ipython3",
      "version": "3.11.4"
    },
    "widgets": {
      "application/vnd.jupyter.widget-state+json": {
        "976debf0e0a64be68c5707fb3e10d649": {
          "model_module": "@jupyter-widgets/controls",
          "model_name": "HBoxModel",
          "model_module_version": "1.5.0",
          "state": {
            "_dom_classes": [],
            "_model_module": "@jupyter-widgets/controls",
            "_model_module_version": "1.5.0",
            "_model_name": "HBoxModel",
            "_view_count": null,
            "_view_module": "@jupyter-widgets/controls",
            "_view_module_version": "1.5.0",
            "_view_name": "HBoxView",
            "box_style": "",
            "children": [
              "IPY_MODEL_8397593399ed4efa90852bd6ed80c4c3",
              "IPY_MODEL_4ea9b2f56e394703a03f53821b7adcc7",
              "IPY_MODEL_558ff4e81d9541d197643ddb5c3a4e19"
            ],
            "layout": "IPY_MODEL_ab4306a1ce1d4f87aef6852432ca6c35"
          }
        },
        "8397593399ed4efa90852bd6ed80c4c3": {
          "model_module": "@jupyter-widgets/controls",
          "model_name": "HTMLModel",
          "model_module_version": "1.5.0",
          "state": {
            "_dom_classes": [],
            "_model_module": "@jupyter-widgets/controls",
            "_model_module_version": "1.5.0",
            "_model_name": "HTMLModel",
            "_view_count": null,
            "_view_module": "@jupyter-widgets/controls",
            "_view_module_version": "1.5.0",
            "_view_name": "HTMLView",
            "description": "",
            "description_tooltip": null,
            "layout": "IPY_MODEL_320f75a64be44b529878b5c159acf062",
            "placeholder": "​",
            "style": "IPY_MODEL_18d019f4471e42e68b3b36f8aadf8898",
            "value": "  0%"
          }
        },
        "4ea9b2f56e394703a03f53821b7adcc7": {
          "model_module": "@jupyter-widgets/controls",
          "model_name": "FloatProgressModel",
          "model_module_version": "1.5.0",
          "state": {
            "_dom_classes": [],
            "_model_module": "@jupyter-widgets/controls",
            "_model_module_version": "1.5.0",
            "_model_name": "FloatProgressModel",
            "_view_count": null,
            "_view_module": "@jupyter-widgets/controls",
            "_view_module_version": "1.5.0",
            "_view_name": "ProgressView",
            "bar_style": "",
            "description": "",
            "description_tooltip": null,
            "layout": "IPY_MODEL_5406d86f80f24aa9ba93f39eb1a8ce86",
            "max": 704,
            "min": 0,
            "orientation": "horizontal",
            "style": "IPY_MODEL_0f740999ac574d7d9db6ec726d1deeb5",
            "value": 1
          }
        },
        "558ff4e81d9541d197643ddb5c3a4e19": {
          "model_module": "@jupyter-widgets/controls",
          "model_name": "HTMLModel",
          "model_module_version": "1.5.0",
          "state": {
            "_dom_classes": [],
            "_model_module": "@jupyter-widgets/controls",
            "_model_module_version": "1.5.0",
            "_model_name": "HTMLModel",
            "_view_count": null,
            "_view_module": "@jupyter-widgets/controls",
            "_view_module_version": "1.5.0",
            "_view_name": "HTMLView",
            "description": "",
            "description_tooltip": null,
            "layout": "IPY_MODEL_762ad33598cc4d37a40778182bef4f6d",
            "placeholder": "​",
            "style": "IPY_MODEL_298a7a4247ad4d349de6a94a8ac044ba",
            "value": " 1/704 [02:58&lt;34:50:23, 178.41s/it]"
          }
        },
        "ab4306a1ce1d4f87aef6852432ca6c35": {
          "model_module": "@jupyter-widgets/base",
          "model_name": "LayoutModel",
          "model_module_version": "1.2.0",
          "state": {
            "_model_module": "@jupyter-widgets/base",
            "_model_module_version": "1.2.0",
            "_model_name": "LayoutModel",
            "_view_count": null,
            "_view_module": "@jupyter-widgets/base",
            "_view_module_version": "1.2.0",
            "_view_name": "LayoutView",
            "align_content": null,
            "align_items": null,
            "align_self": null,
            "border": null,
            "bottom": null,
            "display": null,
            "flex": null,
            "flex_flow": null,
            "grid_area": null,
            "grid_auto_columns": null,
            "grid_auto_flow": null,
            "grid_auto_rows": null,
            "grid_column": null,
            "grid_gap": null,
            "grid_row": null,
            "grid_template_areas": null,
            "grid_template_columns": null,
            "grid_template_rows": null,
            "height": null,
            "justify_content": null,
            "justify_items": null,
            "left": null,
            "margin": null,
            "max_height": null,
            "max_width": null,
            "min_height": null,
            "min_width": null,
            "object_fit": null,
            "object_position": null,
            "order": null,
            "overflow": null,
            "overflow_x": null,
            "overflow_y": null,
            "padding": null,
            "right": null,
            "top": null,
            "visibility": null,
            "width": null
          }
        },
        "320f75a64be44b529878b5c159acf062": {
          "model_module": "@jupyter-widgets/base",
          "model_name": "LayoutModel",
          "model_module_version": "1.2.0",
          "state": {
            "_model_module": "@jupyter-widgets/base",
            "_model_module_version": "1.2.0",
            "_model_name": "LayoutModel",
            "_view_count": null,
            "_view_module": "@jupyter-widgets/base",
            "_view_module_version": "1.2.0",
            "_view_name": "LayoutView",
            "align_content": null,
            "align_items": null,
            "align_self": null,
            "border": null,
            "bottom": null,
            "display": null,
            "flex": null,
            "flex_flow": null,
            "grid_area": null,
            "grid_auto_columns": null,
            "grid_auto_flow": null,
            "grid_auto_rows": null,
            "grid_column": null,
            "grid_gap": null,
            "grid_row": null,
            "grid_template_areas": null,
            "grid_template_columns": null,
            "grid_template_rows": null,
            "height": null,
            "justify_content": null,
            "justify_items": null,
            "left": null,
            "margin": null,
            "max_height": null,
            "max_width": null,
            "min_height": null,
            "min_width": null,
            "object_fit": null,
            "object_position": null,
            "order": null,
            "overflow": null,
            "overflow_x": null,
            "overflow_y": null,
            "padding": null,
            "right": null,
            "top": null,
            "visibility": null,
            "width": null
          }
        },
        "18d019f4471e42e68b3b36f8aadf8898": {
          "model_module": "@jupyter-widgets/controls",
          "model_name": "DescriptionStyleModel",
          "model_module_version": "1.5.0",
          "state": {
            "_model_module": "@jupyter-widgets/controls",
            "_model_module_version": "1.5.0",
            "_model_name": "DescriptionStyleModel",
            "_view_count": null,
            "_view_module": "@jupyter-widgets/base",
            "_view_module_version": "1.2.0",
            "_view_name": "StyleView",
            "description_width": ""
          }
        },
        "5406d86f80f24aa9ba93f39eb1a8ce86": {
          "model_module": "@jupyter-widgets/base",
          "model_name": "LayoutModel",
          "model_module_version": "1.2.0",
          "state": {
            "_model_module": "@jupyter-widgets/base",
            "_model_module_version": "1.2.0",
            "_model_name": "LayoutModel",
            "_view_count": null,
            "_view_module": "@jupyter-widgets/base",
            "_view_module_version": "1.2.0",
            "_view_name": "LayoutView",
            "align_content": null,
            "align_items": null,
            "align_self": null,
            "border": null,
            "bottom": null,
            "display": null,
            "flex": null,
            "flex_flow": null,
            "grid_area": null,
            "grid_auto_columns": null,
            "grid_auto_flow": null,
            "grid_auto_rows": null,
            "grid_column": null,
            "grid_gap": null,
            "grid_row": null,
            "grid_template_areas": null,
            "grid_template_columns": null,
            "grid_template_rows": null,
            "height": null,
            "justify_content": null,
            "justify_items": null,
            "left": null,
            "margin": null,
            "max_height": null,
            "max_width": null,
            "min_height": null,
            "min_width": null,
            "object_fit": null,
            "object_position": null,
            "order": null,
            "overflow": null,
            "overflow_x": null,
            "overflow_y": null,
            "padding": null,
            "right": null,
            "top": null,
            "visibility": null,
            "width": null
          }
        },
        "0f740999ac574d7d9db6ec726d1deeb5": {
          "model_module": "@jupyter-widgets/controls",
          "model_name": "ProgressStyleModel",
          "model_module_version": "1.5.0",
          "state": {
            "_model_module": "@jupyter-widgets/controls",
            "_model_module_version": "1.5.0",
            "_model_name": "ProgressStyleModel",
            "_view_count": null,
            "_view_module": "@jupyter-widgets/base",
            "_view_module_version": "1.2.0",
            "_view_name": "StyleView",
            "bar_color": null,
            "description_width": ""
          }
        },
        "762ad33598cc4d37a40778182bef4f6d": {
          "model_module": "@jupyter-widgets/base",
          "model_name": "LayoutModel",
          "model_module_version": "1.2.0",
          "state": {
            "_model_module": "@jupyter-widgets/base",
            "_model_module_version": "1.2.0",
            "_model_name": "LayoutModel",
            "_view_count": null,
            "_view_module": "@jupyter-widgets/base",
            "_view_module_version": "1.2.0",
            "_view_name": "LayoutView",
            "align_content": null,
            "align_items": null,
            "align_self": null,
            "border": null,
            "bottom": null,
            "display": null,
            "flex": null,
            "flex_flow": null,
            "grid_area": null,
            "grid_auto_columns": null,
            "grid_auto_flow": null,
            "grid_auto_rows": null,
            "grid_column": null,
            "grid_gap": null,
            "grid_row": null,
            "grid_template_areas": null,
            "grid_template_columns": null,
            "grid_template_rows": null,
            "height": null,
            "justify_content": null,
            "justify_items": null,
            "left": null,
            "margin": null,
            "max_height": null,
            "max_width": null,
            "min_height": null,
            "min_width": null,
            "object_fit": null,
            "object_position": null,
            "order": null,
            "overflow": null,
            "overflow_x": null,
            "overflow_y": null,
            "padding": null,
            "right": null,
            "top": null,
            "visibility": null,
            "width": null
          }
        },
        "298a7a4247ad4d349de6a94a8ac044ba": {
          "model_module": "@jupyter-widgets/controls",
          "model_name": "DescriptionStyleModel",
          "model_module_version": "1.5.0",
          "state": {
            "_model_module": "@jupyter-widgets/controls",
            "_model_module_version": "1.5.0",
            "_model_name": "DescriptionStyleModel",
            "_view_count": null,
            "_view_module": "@jupyter-widgets/base",
            "_view_module_version": "1.2.0",
            "_view_name": "StyleView",
            "description_width": ""
          }
        }
      }
    }
  },
  "nbformat": 4,
  "nbformat_minor": 0
}